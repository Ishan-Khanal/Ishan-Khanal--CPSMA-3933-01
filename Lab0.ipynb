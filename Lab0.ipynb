{
  "cells": [
    {
      "cell_type": "markdown",
      "metadata": {
        "id": "view-in-github",
        "colab_type": "text"
      },
      "source": [
        "<a href=\"https://colab.research.google.com/github/Ishan-Khanal/Ishan-Khanal--CPSMA-3933-01/blob/main/Lab0.ipynb\" target=\"_parent\"><img src=\"https://colab.research.google.com/assets/colab-badge.svg\" alt=\"Open In Colab\"/></a>"
      ]
    },
    {
      "cell_type": "markdown",
      "id": "5bb82156",
      "metadata": {
        "id": "5bb82156"
      },
      "source": [
        "# ** Lab-0 Assignment **  \n",
        "## **Name:** Ishan Khanal  \n",
        "## **Class:** Operations Research (CPSMA-3933-01)  \n",
        "## **Date:** September 03, 2025\n",
        "\n",
        "---\n",
        "\n"
      ]
    },
    {
      "cell_type": "markdown",
      "id": "19351d4f",
      "metadata": {
        "id": "19351d4f"
      },
      "source": [
        "## My Favorite Function\n",
        "\n",
        "My favorite function is **len()**.  \n",
        "\n",
        "**Why I like it:**\n",
        "- It is very simple and easy to understand.  \n",
        "- It tells me how many items are in a list or string.  \n",
        "- I use it all the time when working with data and strings.\n"
      ]
    },
    {
      "cell_type": "code",
      "execution_count": 2,
      "id": "b0c37612",
      "metadata": {
        "colab": {
          "base_uri": "https://localhost:8080/"
        },
        "id": "b0c37612",
        "outputId": "36121845-0195-463e-944b-41eeedeb3ac8"
      },
      "outputs": [
        {
          "output_type": "stream",
          "name": "stdout",
          "text": [
            "List: [10, 20, 30, 40, 50]\n",
            "Length of list: 5\n",
            "Word: Computer\n",
            "Length of word: 8\n"
          ]
        }
      ],
      "source": [
        "items = [10, 20, 30, 40, 50]\n",
        "word = \"Computer\"\n",
        "\n",
        "print(\"List:\", items)\n",
        "print(\"Length of list:\", len(items))\n",
        "\n",
        "print(\"Word:\", word)\n",
        "print(\"Length of word:\", len(word))"
      ]
    },
    {
      "cell_type": "markdown",
      "id": "ce036798",
      "metadata": {
        "id": "ce036798"
      },
      "source": [
        "#List of Values\n",
        "\n",
        "I made a list of first 10 even numbers.  \n",
        "\n",
        "Then I calculated the **sum**, **minimum**, **maximum**, and the **average** of the numbers.\n"
      ]
    },
    {
      "cell_type": "code",
      "execution_count": 1,
      "id": "7037c368",
      "metadata": {
        "colab": {
          "base_uri": "https://localhost:8080/"
        },
        "id": "7037c368",
        "outputId": "794b74a5-99b5-48fa-890c-f81e939b9d1d"
      },
      "outputs": [
        {
          "output_type": "stream",
          "name": "stdout",
          "text": [
            "Values: [2, 4, 6, 8, 10, 12, 14, 16, 18, 20]\n",
            "Sum     : 110\n",
            "Minimum : 2\n",
            "Maximum : 20\n",
            "Average : 11.0\n"
          ]
        }
      ],
      "source": [
        "values = [2, 4, 6, 8, 10, 12, 14, 16, 18, 20]\n",
        "print(\"Values:\", values)\n",
        "\n",
        "the_sum = sum(values)\n",
        "the_min = min(values)\n",
        "the_max = max(values)\n",
        "the_avg = the_sum / len(values)\n",
        "\n",
        "print(\"Sum     :\", the_sum)\n",
        "print(\"Minimum :\", the_min)\n",
        "print(\"Maximum :\", the_max)\n",
        "print(\"Average :\", the_avg)\n"
      ]
    }
  ],
  "metadata": {
    "colab": {
      "provenance": [],
      "include_colab_link": true
    },
    "language_info": {
      "name": "python"
    },
    "kernelspec": {
      "name": "python3",
      "display_name": "Python 3"
    }
  },
  "nbformat": 4,
  "nbformat_minor": 5
}