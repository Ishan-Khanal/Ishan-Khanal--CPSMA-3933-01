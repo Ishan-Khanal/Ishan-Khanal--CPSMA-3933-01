{
  "nbformat": 4,
  "nbformat_minor": 0,
  "metadata": {
    "colab": {
      "provenance": [],
      "authorship_tag": "ABX9TyORT8SZI1hOxIUJWKswdFtd",
      "include_colab_link": true
    },
    "kernelspec": {
      "name": "python3",
      "display_name": "Python 3"
    },
    "language_info": {
      "name": "python"
    }
  },
  "cells": [
    {
      "cell_type": "markdown",
      "metadata": {
        "id": "view-in-github",
        "colab_type": "text"
      },
      "source": [
        "<a href=\"https://colab.research.google.com/github/Ishan-Khanal/Ishan-Khanal--CPSMA-3933-01/blob/main/Lab2.ipynb\" target=\"_parent\"><img src=\"https://colab.research.google.com/assets/colab-badge.svg\" alt=\"Open In Colab\"/></a>"
      ]
    },
    {
      "cell_type": "markdown",
      "source": [
        "## Problem Solving: Factorials, Big Numbers, and Handshakes  \n",
        "\n",
        "This notebook covers four problems:  \n",
        "1. Factorial trailing zeros  \n",
        "2. Big numbers (sum of digits)  \n",
        "3. Soccer handshakes  \n",
        "4. Harder handshake puzzle  \n"
      ],
      "metadata": {
        "id": "8geRcr0wCov4"
      }
    },
    {
      "cell_type": "markdown",
      "source": [
        "## 1) Factorial Trailing Zeros  \n",
        "\n",
        "**Question:** How many zeros does \\(1000!\\) end with?  \n",
        "\n",
        "We can check by actually computing `math.factorial(1000)` and counting trailing zeros.  \n"
      ],
      "metadata": {
        "id": "tsrly5UGC0Z3"
      }
    },
    {
      "cell_type": "code",
      "source": [
        "import math\n",
        "f = math.factorial(1000)\n",
        "\n",
        "zeros = len(str(f)) - len(str(f).rstrip(\"0\"))\n",
        "zeros\n"
      ],
      "metadata": {
        "colab": {
          "base_uri": "https://localhost:8080/"
        },
        "id": "1r1-jJW_C8Y4",
        "outputId": "f678c3a5-df80-4c01-84c3-834c120651a8"
      },
      "execution_count": 10,
      "outputs": [
        {
          "output_type": "execute_result",
          "data": {
            "text/plain": [
              "249"
            ]
          },
          "metadata": {},
          "execution_count": 10
        }
      ]
    },
    {
      "cell_type": "markdown",
      "source": [
        "## 2) Big Numbers – Sum of Digits  \n",
        "\n",
        "**Question:** What is the sum of the digits of `8675309`?  \n",
        "\n"
      ],
      "metadata": {
        "id": "zgAJRwwzDLmv"
      }
    },
    {
      "cell_type": "code",
      "source": [
        "x = '8675309'\n",
        "digit_sum = sum(int(d) for d in x)\n",
        "digit_sum\n"
      ],
      "metadata": {
        "colab": {
          "base_uri": "https://localhost:8080/"
        },
        "id": "aYLCgKdhDcRt",
        "outputId": "c0665897-ff1d-4db2-f88e-21116b772f92"
      },
      "execution_count": 11,
      "outputs": [
        {
          "output_type": "execute_result",
          "data": {
            "text/plain": [
              "38"
            ]
          },
          "metadata": {},
          "execution_count": 11
        }
      ]
    },
    {
      "cell_type": "markdown",
      "source": [
        "## 3) Handshakes – Two Soccer Teams  \n",
        "\n",
        "**Question:** Two teams of 11 all shake hands with the opposing team.  \n",
        "The winning team also shakes hands among themselves.  \n",
        "How many handshakes occur?  \n",
        "\n"
      ],
      "metadata": {
        "id": "h6pEX8vbEMRi"
      }
    },
    {
      "cell_type": "code",
      "source": [
        "import math\n",
        "def soccer_handshakes(team_size:int)->int:\n",
        "    cross = team_size * team_size\n",
        "    intra = math.comb(team_size, 2)\n",
        "    return cross + intra\n",
        "\n",
        "soccer_handshakes(11)\n"
      ],
      "metadata": {
        "colab": {
          "base_uri": "https://localhost:8080/"
        },
        "id": "tBtpP7eaEg0U",
        "outputId": "3037612f-49b6-46c0-8e25-733a95c93947"
      },
      "execution_count": 12,
      "outputs": [
        {
          "output_type": "execute_result",
          "data": {
            "text/plain": [
              "176"
            ]
          },
          "metadata": {},
          "execution_count": 12
        }
      ]
    },
    {
      "cell_type": "markdown",
      "source": [
        "## 4) Harder Handshakes – Mr. Smith’s Dinner Party  \n",
        "\n",
        "- 5 couples (10 people total).  \n",
        "- No one shakes hands with their spouse.  \n",
        "- Each of the other 9 people gave a **different** number of handshakes.  \n",
        "\n",
        "**Reasoning:**  \n",
        "Possible counts: 0 through 8.  \n",
        "They must pair up as:  \n",
        "\n",
        "- (0,8), (1,7), (2,6), (3,5).  \n",
        "\n",
        "That leaves 4 as the only unpaired count : belongs to Mr. Smith.  \n",
        "\n",
        "**Answer:** Mr. Smith shook **4 hands**.  \n"
      ],
      "metadata": {
        "id": "lPwRmJqeE3y4"
      }
    }
  ]
}