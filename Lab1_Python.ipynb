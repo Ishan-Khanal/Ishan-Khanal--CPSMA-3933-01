{
  "nbformat": 4,
  "nbformat_minor": 0,
  "metadata": {
    "colab": {
      "provenance": [],
      "authorship_tag": "ABX9TyOaIf2fOsIRyGml1LAMByua",
      "include_colab_link": true
    },
    "kernelspec": {
      "name": "python3",
      "display_name": "Python 3"
    },
    "language_info": {
      "name": "python"
    }
  },
  "cells": [
    {
      "cell_type": "markdown",
      "metadata": {
        "id": "view-in-github",
        "colab_type": "text"
      },
      "source": [
        "<a href=\"https://colab.research.google.com/github/Ishan-Khanal/Ishan-Khanal--CPSMA-3933-01/blob/main/Lab1_Python.ipynb\" target=\"_parent\"><img src=\"https://colab.research.google.com/assets/colab-badge.svg\" alt=\"Open In Colab\"/></a>"
      ]
    },
    {
      "cell_type": "markdown",
      "source": [
        "# Taxes — 2023 Progressive Tax System\n",
        "\n",
        "We will compute federal income tax using 2023 IRS brackets.  \n",
        "The system is progressive: each portion of income is taxed at the bracket's rate.\n"
      ],
      "metadata": {
        "id": "-NQ6AhmI9AlC"
      }
    },
    {
      "cell_type": "code",
      "source": [
        "def compute_tax(income: float) -> float:\n",
        "    \"\"\"Compute federal income tax for single filer, 2023 brackets.\"\"\"\n",
        "    if income <= 11000:\n",
        "        return income * 0.10\n",
        "    elif income <= 44725:\n",
        "        return 1100 + (income - 11000) * 0.12\n",
        "    elif income <= 95375:\n",
        "        return 5147 + (income - 44725) * 0.22\n",
        "    elif income <= 182100:\n",
        "        return 16290 + (income - 95375) * 0.24\n",
        "    elif income <= 231250:\n",
        "        return 37104 + (income - 182100) * 0.32\n",
        "    elif income <= 578125:\n",
        "        return 52832 + (income - 231250) * 0.35\n",
        "    else:\n",
        "        return 174238.25 + (income - 578125) * 0.37\n",
        "\n",
        "# Examples\n",
        "for test_income in [5000, 30000, 60000, 120000, 250000, 600000]:\n",
        "    print(f\"Income = ${test_income:,} → Tax = ${compute_tax(test_income):,.2f}\")\n"
      ],
      "metadata": {
        "colab": {
          "base_uri": "https://localhost:8080/"
        },
        "id": "CpfRl07O9cvA",
        "outputId": "5125e93a-2acf-465c-fc82-a553071eb1fd"
      },
      "execution_count": 23,
      "outputs": [
        {
          "output_type": "stream",
          "name": "stdout",
          "text": [
            "Income = $5,000 → Tax = $500.00\n",
            "Income = $30,000 → Tax = $3,380.00\n",
            "Income = $60,000 → Tax = $8,507.50\n",
            "Income = $120,000 → Tax = $22,200.00\n",
            "Income = $250,000 → Tax = $59,394.50\n",
            "Income = $600,000 → Tax = $182,332.00\n"
          ]
        }
      ]
    },
    {
      "cell_type": "markdown",
      "source": [
        "# Derivative using Lists\n",
        "\n",
        "We show numerically that the derivative of ln(x) at x=1 is 1.  \n",
        "\n"
      ],
      "metadata": {
        "id": "t-WS8-c698mk"
      }
    },
    {
      "cell_type": "code",
      "source": [
        "import math\n",
        "\n",
        "# Define f(x) = ln(x)\n",
        "def f(x):\n",
        "    return math.log(x)\n",
        "\n",
        "x0 = 1.0\n",
        "h = [1, 0.1, 0.001, 0.002, 0.0001, 0.0000000001]\n",
        "\n",
        "print(\"h\\t\\tapprox derivative\")\n",
        "for val in h:\n",
        "    derivative_approx = (f(x0 + val) - f(x0)) / val\n",
        "    print(f\"{val:<12} -> {derivative_approx:.12f}\")\n"
      ],
      "metadata": {
        "colab": {
          "base_uri": "https://localhost:8080/"
        },
        "id": "0cZZYxDgBEEy",
        "outputId": "0248424e-9f8d-4b16-d46b-aa77adbd8a44"
      },
      "execution_count": 24,
      "outputs": [
        {
          "output_type": "stream",
          "name": "stdout",
          "text": [
            "h\t\tapprox derivative\n",
            "1            -> 0.693147180560\n",
            "0.1          -> 0.953101798043\n",
            "0.001        -> 0.999500333083\n",
            "0.002        -> 0.999001331337\n",
            "0.0001       -> 0.999950003333\n",
            "1e-10        -> 1.000000082690\n"
          ]
        }
      ]
    },
    {
      "cell_type": "markdown",
      "source": [
        "## Extra Challenge: Symbolic check with Sympy\n"
      ],
      "metadata": {
        "id": "dCwVlQw0BQhX"
      }
    },
    {
      "cell_type": "code",
      "source": [
        "import sympy as sp\n",
        "\n",
        "x, h = sp.symbols('x h', positive=True)\n",
        "f_sym = sp.log(x)\n",
        "\n",
        "# derivative\n",
        "derivative = sp.diff(f_sym, x)\n",
        "print(\"f'(x) =\", derivative)\n",
        "print(\"f'(1) =\", derivative.subs(x, 1))\n",
        "\n",
        "# limit definition\n",
        "limit_expr = (sp.log(1 + h) - sp.log(1)) / h\n",
        "limit_val = sp.limit(limit_expr, h, 0)\n",
        "print(\"Limit as h→0 =\", limit_val)\n"
      ],
      "metadata": {
        "colab": {
          "base_uri": "https://localhost:8080/"
        },
        "id": "AvLV20KnBSA6",
        "outputId": "0e6d244e-1a92-4bdb-89bd-8f31a54c5586"
      },
      "execution_count": 25,
      "outputs": [
        {
          "output_type": "stream",
          "name": "stdout",
          "text": [
            "f'(x) = 1/x\n",
            "f'(1) = 1\n",
            "Limit as h→0 = 1\n"
          ]
        }
      ]
    },
    {
      "cell_type": "markdown",
      "source": [
        "# Truth of Summation\n",
        "\n",
        "This means the sum of cubes equals the square of the sum of the first *n* integers.  \n",
        "We'll test for values of \\(n\\) up to 1000.\n",
        "\n",
        "**Extra Challenge:** Reduce the output to a single `True/False`.\n"
      ],
      "metadata": {
        "id": "TIwygM2SBexU"
      }
    },
    {
      "cell_type": "code",
      "source": [
        "def verify_cube_sum(n: int) -> bool:\n",
        "    if not isinstance(n, int) or n < 0:\n",
        "        raise ValueError(\"n must be a nonnegative integer\")\n",
        "    left = sum(i**3 for i in range(n + 1))\n",
        "    right = (n * (n + 1) // 2) ** 2\n",
        "    return left == right\n",
        "\n",
        "for n in range(1, 11):\n",
        "    print(f\"n={n:>2} → {verify_cube_sum(n)}\")\n",
        "\n",
        "print(\"Formula holds for n up to 1000:\",\n",
        "      all(verify_cube_sum(n) for n in range(1, 1001)))\n",
        "\n",
        "limit = 1000\n",
        "for k in range(limit + 1):\n",
        "    if not verify_cube_sum(k):\n",
        "        print(\"Counterexample at n =\" , k)\n",
        "        break\n",
        "else:\n",
        "    print(f\"No counterexample found for n = 0..{limit}.\")\n"
      ],
      "metadata": {
        "colab": {
          "base_uri": "https://localhost:8080/"
        },
        "id": "TpyL2gszCbFp",
        "outputId": "982c7f14-2e77-4dc0-e1b9-899b17c29b4d"
      },
      "execution_count": 29,
      "outputs": [
        {
          "output_type": "stream",
          "name": "stdout",
          "text": [
            "n= 1 → True\n",
            "n= 2 → True\n",
            "n= 3 → True\n",
            "n= 4 → True\n",
            "n= 5 → True\n",
            "n= 6 → True\n",
            "n= 7 → True\n",
            "n= 8 → True\n",
            "n= 9 → True\n",
            "n=10 → True\n",
            "Formula holds for n up to 1000: True\n",
            "No counterexample found for n = 0..1000.\n"
          ]
        }
      ]
    }
  ]
}