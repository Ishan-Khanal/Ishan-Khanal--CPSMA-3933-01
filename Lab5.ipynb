{
  "nbformat": 4,
  "nbformat_minor": 0,
  "metadata": {
    "colab": {
      "provenance": [],
      "authorship_tag": "ABX9TyNtcLGcMyqBc01AEEQnUxtC",
      "include_colab_link": true
    },
    "kernelspec": {
      "name": "python3",
      "display_name": "Python 3"
    },
    "language_info": {
      "name": "python"
    }
  },
  "cells": [
    {
      "cell_type": "markdown",
      "metadata": {
        "id": "view-in-github",
        "colab_type": "text"
      },
      "source": [
        "<a href=\"https://colab.research.google.com/github/Ishan-Khanal/Ishan-Khanal--CPSMA-3933-01/blob/main/Lab5.ipynb\" target=\"_parent\"><img src=\"https://colab.research.google.com/assets/colab-badge.svg\" alt=\"Open In Colab\"/></a>"
      ]
    },
    {
      "cell_type": "markdown",
      "source": [
        "# Recursion Assignment – Three Methods and Comparison\n",
        "\n",
        "\n",
        "We will:\n",
        "1. Derive the **closed-form** (mathematical) solution.\n",
        "2. Implement **Dynamic Programming (bottom-up tabulation)**.\n",
        "3. Implement **Dynamic Programming with memoization (top-down caching)**.\n",
        "4. Compare all three and time how long each takes to compute the 1000th term.\n"
      ],
      "metadata": {
        "id": "XgWh2owQ9vrs"
      }
    },
    {
      "cell_type": "code",
      "source": [
        "# Closed-form (Binet’s Formula) with high precision using Decimal\n",
        "from decimal import Decimal, getcontext\n",
        "\n",
        "def fib_closed_form(n: int) -> int:\n",
        "    \"\"\"Fibonacci via Binet’s formula using high precision Decimal arithmetic.\"\"\"\n",
        "    if n < 0:\n",
        "        raise ValueError(\"n must be nonnegative\")\n",
        "    getcontext().prec = 300  # enough precision for n up to ~10,000\n",
        "    sqrt5 = Decimal(5).sqrt()\n",
        "    phi = (Decimal(1) + sqrt5) / Decimal(2)\n",
        "    psi = (Decimal(1) - sqrt5) / Decimal(2)\n",
        "    val = (phi**n - psi**n) / sqrt5\n",
        "    return int(val.to_integral_value(rounding=getcontext().rounding))\n",
        "\n",
        "# quick checks\n",
        "print(fib_closed_form(10))\n"
      ],
      "metadata": {
        "colab": {
          "base_uri": "https://localhost:8080/"
        },
        "id": "5yYshqfo91hL",
        "outputId": "8004878a-0f97-4a46-96c7-88d2ea3160ed"
      },
      "execution_count": 1,
      "outputs": [
        {
          "output_type": "stream",
          "name": "stdout",
          "text": [
            "55\n"
          ]
        }
      ]
    },
    {
      "cell_type": "markdown",
      "source": [
        "## 2) Dynamic Programming (Bottom-Up Tabulation)\n",
        "\n",
        "We build the sequence iteratively from the base cases.\n",
        "Time complexity = O(n), space = O(1) if we keep only the last two terms.\n"
      ],
      "metadata": {
        "id": "VuC9-eqn99Pr"
      }
    },
    {
      "cell_type": "code",
      "source": [
        "def fib_tab(n: int) -> int:\n",
        "    if n < 0:\n",
        "        raise ValueError(\"n must be nonnegative\")\n",
        "    if n <= 1:\n",
        "        return n\n",
        "    a, b = 0, 1\n",
        "    for _ in range(2, n + 1):\n",
        "        a, b = b, a + b\n",
        "    return b\n",
        "\n",
        "print(fib_tab(10))  # 55\n"
      ],
      "metadata": {
        "colab": {
          "base_uri": "https://localhost:8080/"
        },
        "id": "IRtf-nEG-ANj",
        "outputId": "721a12fe-e956-45af-ee93-9984afb0a27f"
      },
      "execution_count": 2,
      "outputs": [
        {
          "output_type": "stream",
          "name": "stdout",
          "text": [
            "55\n"
          ]
        }
      ]
    },
    {
      "cell_type": "markdown",
      "source": [
        "## 3) Dynamic Programming with Memoization (Top-Down)\n",
        "\n",
        "A recursive version that caches previous results.\n",
        "Same O(n) time, but recursion adds a bit of overhead.\n"
      ],
      "metadata": {
        "id": "zUy5Noc2-DPi"
      }
    },
    {
      "cell_type": "code",
      "source": [
        "import sys\n",
        "from functools import lru_cache\n",
        "sys.setrecursionlimit(10_000)\n",
        "\n",
        "@lru_cache(maxsize=None)\n",
        "def fib_memo(n: int) -> int:\n",
        "    if n < 0:\n",
        "        raise ValueError(\"n must be nonnegative\")\n",
        "    if n <= 1:\n",
        "        return n\n",
        "    return fib_memo(n - 1) + fib_memo(n - 2)\n",
        "\n",
        "print(fib_memo(10))  # 55\n"
      ],
      "metadata": {
        "colab": {
          "base_uri": "https://localhost:8080/"
        },
        "id": "TpEbVn3w-G4n",
        "outputId": "f9be23c5-298b-423d-cd69-3f428eb85ce0"
      },
      "execution_count": 3,
      "outputs": [
        {
          "output_type": "stream",
          "name": "stdout",
          "text": [
            "55\n"
          ]
        }
      ]
    },
    {
      "cell_type": "markdown",
      "source": [
        "## 4) Verification and Benchmark for n = 1000\n",
        "\n",
        "Now we’ll compute the 1000th Fibonacci number using all three methods,\n",
        "check that the results match, and measure the time for each.\n"
      ],
      "metadata": {
        "id": "LqM1Y66p-KVL"
      }
    },
    {
      "cell_type": "code",
      "source": [
        "from time import perf_counter\n",
        "\n",
        "N = 1000\n",
        "\n",
        "t0 = perf_counter(); val_closed = fib_closed_form(N); t_closed = perf_counter() - t0\n",
        "t0 = perf_counter(); val_tab    = fib_tab(N);         t_tab    = perf_counter() - t0\n",
        "t0 = perf_counter(); val_memo   = fib_memo(N);        t_memo   = perf_counter() - t0\n",
        "\n",
        "print(f\"All equal: {val_closed == val_tab == val_memo}\")\n",
        "print(f\"Digits in F_{N}: {len(str(val_tab))}\")\n",
        "print(f\"Closed-form time: {t_closed:.6f}s\")\n",
        "print(f\"Tabulation time:  {t_tab:.6f}s\")\n",
        "print(f\"Memoization time: {t_memo:.6f}s\")\n",
        "\n",
        "s = str(val_tab)\n",
        "print(f\"F_{N} starts with: {s[:20]}...\")\n",
        "print(f\"F_{N} ends with:   ...{s[-20:]}\")\n"
      ],
      "metadata": {
        "colab": {
          "base_uri": "https://localhost:8080/"
        },
        "id": "z15WRBZc-M5_",
        "outputId": "289b3acb-fa7d-4bfe-d36a-2556f20f9409"
      },
      "execution_count": 4,
      "outputs": [
        {
          "output_type": "stream",
          "name": "stdout",
          "text": [
            "All equal: True\n",
            "Digits in F_1000: 209\n",
            "Closed-form time: 0.000215s\n",
            "Tabulation time:  0.000082s\n",
            "Memoization time: 0.000685s\n",
            "F_1000 starts with: 43466557686937456435...\n",
            "F_1000 ends with:   ...76137795166849228875\n"
          ]
        }
      ]
    },
    {
      "cell_type": "markdown",
      "source": [
        "## 5) Discussion – Pros and Cons\n",
        "\n",
        "**Closed-Form (Characteristic Equation)**\n",
        "- **Pros:** Elegant, constant-time algebraic expression, good for proofs.\n",
        "- **Cons:** Needs high-precision arithmetic for large n; harder for complex recurrences.\n",
        "\n",
        "**Dynamic Programming (Bottom-Up)**\n",
        "- **Pros:** Simple, exact integer results, very fast in Python, O(n) time and O(1) space.\n",
        "- **Cons:** Still linear; not ideal for extremely large n (there are O(log n) algorithms).\n",
        "\n",
        "**Dynamic Programming + Memoization**\n",
        "- **Pros:** Mirrors the mathematical recurrence, easy to implement.\n",
        "- **Cons:** Slightly slower than iterative due to recursion overhead.\n",
        "\n",
        "**Overall:**  \n",
        "For n = 1000, all three agree. Bottom-up DP is usually fastest and simplest in Python.\n"
      ],
      "metadata": {
        "id": "b7xy4T0D-Qhc"
      }
    }
  ]
}